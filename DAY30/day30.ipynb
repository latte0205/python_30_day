{
 "cells": [
  {
   "cell_type": "code",
   "execution_count": null,
   "metadata": {},
   "outputs": [],
   "source": [
    "import cv2\n",
    "\n",
    "def detectFace(img):\n",
    "    filename = img.split(\".\")[0] # 取得檔案名稱(不添加副檔名)\n",
    "    img = cv2.imread(img) # 讀取圖檔\n",
    "    grayImg = cv2.cvtColor(img, cv2.COLOR_BGR2GRAY) # 透過轉換函式轉為灰階影像\n",
    "    color = (0, 255, 0)  # 定義框的顏色\n",
    "    \n",
    "    # OpenCV 人臉識別分類器\n",
    "    face_classifier = cv2.CascadeClassifier(cv2.data.haarcascades + \"haarcascade_frontalface_default.xml\")\n",
    "    \n",
    "    # 調用偵測識別人臉函式\n",
    "    faceRects = face_classifier.detectMultiScale(\n",
    "        grayImg, scaleFactor=1.2, minNeighbors=3, minSize=(32, 32))\n",
    "    \n",
    "    # 大於 0 則檢測到人臉\n",
    "    if len(faceRects):  \n",
    "        # 框出每一張人臉\n",
    "        for faceRect in faceRects: \n",
    "            x, y, w, h = faceRect\n",
    "            cv2.rectangle(img, (x, y), (x + h, y + w), color, 2)\n",
    "    \n",
    "    # 將結果圖片輸出\n",
    "    cv2.imwrite(filename + \"_face.jpg\", img)\n",
    "    \n",
    "detectFace('human.jpg')"
   ]
  },
  {
   "cell_type": "code",
   "execution_count": null,
   "metadata": {},
   "outputs": [],
   "source": []
  }
 ],
 "metadata": {
  "kernelspec": {
   "display_name": "Python 3",
   "language": "python",
   "name": "python3"
  },
  "language_info": {
   "codemirror_mode": {
    "name": "ipython",
    "version": 3
   },
   "file_extension": ".py",
   "mimetype": "text/x-python",
   "name": "python",
   "nbconvert_exporter": "python",
   "pygments_lexer": "ipython3",
   "version": "3.8.3"
  }
 },
 "nbformat": 4,
 "nbformat_minor": 4
}
