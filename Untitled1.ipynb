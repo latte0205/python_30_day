{
 "cells": [
  {
   "cell_type": "code",
   "execution_count": 1,
   "metadata": {},
   "outputs": [
    {
     "name": "stdout",
     "output_type": "stream",
     "text": [
      "一天事項說明：\n",
      "早餐\n",
      "咖啡\n",
      "上班\n",
      "午餐\n",
      "下午茶\n",
      "下班\n",
      "一天事項說明：\n",
      "早餐\n",
      "咖啡\n",
      "上班\n",
      "午餐\n",
      "下午茶\n",
      "下班\n",
      "一天事項說明：\n",
      "早餐\n",
      "咖啡\n",
      "上班\n",
      "午餐\n",
      "下午茶\n",
      "下班\n"
     ]
    }
   ],
   "source": [
    "def day_item():\n",
    "    print(\"一天事項說明：\")\n",
    "    print(\"早餐\")\n",
    "    print(\"咖啡\")\n",
    "    print(\"上班\")\n",
    "    print(\"午餐\")\n",
    "    print(\"下午茶\")\n",
    "    print(\"下班\")\n",
    "\n",
    "    \n",
    "day_item()\n",
    "day_item()\n",
    "day_item()"
   ]
  },
  {
   "cell_type": "code",
   "execution_count": 3,
   "metadata": {},
   "outputs": [
    {
     "name": "stdout",
     "output_type": "stream",
     "text": [
      "請選擇套餐(A,B,C):A\n",
      "今天我想來點>>>滷肉飯\n"
     ]
    }
   ],
   "source": [
    "def data_item(check_code):\n",
    "    if(check_code == 'A'):\n",
    "        return \"滷肉飯\"\n",
    "    elif(check_code == 'B'):\n",
    "        return \"火鍋\"\n",
    "    elif(check_code == 'C'):\n",
    "        return \"薯條\"\n",
    "    \n",
    "input_value =  input(\"請選擇套餐(A,B,C):\")\n",
    "print(\"今天我想來點>>>%s\" %(data_item(input_value)))"
   ]
  },
  {
   "cell_type": "code",
   "execution_count": null,
   "metadata": {},
   "outputs": [],
   "source": []
  }
 ],
 "metadata": {
  "kernelspec": {
   "display_name": "Python 3",
   "language": "python",
   "name": "python3"
  },
  "language_info": {
   "codemirror_mode": {
    "name": "ipython",
    "version": 3
   },
   "file_extension": ".py",
   "mimetype": "text/x-python",
   "name": "python",
   "nbconvert_exporter": "python",
   "pygments_lexer": "ipython3",
   "version": "3.8.3"
  }
 },
 "nbformat": 4,
 "nbformat_minor": 4
}
