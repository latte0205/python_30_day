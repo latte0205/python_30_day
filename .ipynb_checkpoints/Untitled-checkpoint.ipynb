{
 "cells": [
  {
   "cell_type": "code",
   "execution_count": null,
   "metadata": {},
   "outputs": [],
   "source": [
    "# 詢問使用者心情分數1~10分，並依據分數給出建議，若是大於(含)6就給予「吃日本料理」，若是小於6就給予「吃義大利麵」\n",
    "today_mood = int(input('今天心情1~10分:'))\n",
    "type(today_mood)\n",
    "\n",
    "if today_mood >= 6:\n",
    "    print('吃義大利麵')\n",
    "elif today_mood < 6:\n",
    "    print('吃日本料理')"
   ]
  },
  {
   "cell_type": "code",
   "execution_count": null,
   "metadata": {},
   "outputs": [],
   "source": []
  },
  {
   "cell_type": "code",
   "execution_count": null,
   "metadata": {},
   "outputs": [],
   "source": []
  }
 ],
 "metadata": {
  "kernelspec": {
   "display_name": "Python 3",
   "language": "python",
   "name": "python3"
  },
  "language_info": {
   "codemirror_mode": {
    "name": "ipython",
    "version": 3
   },
   "file_extension": ".py",
   "mimetype": "text/x-python",
   "name": "python",
   "nbconvert_exporter": "python",
   "pygments_lexer": "ipython3",
   "version": "3.8.3"
  }
 },
 "nbformat": 4,
 "nbformat_minor": 4
}
