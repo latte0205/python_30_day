{
 "cells": [
  {
   "cell_type": "code",
   "execution_count": 2,
   "metadata": {},
   "outputs": [
    {
     "name": "stdout",
     "output_type": "stream",
     "text": [
      "9487\n"
     ]
    },
    {
     "data": {
      "text/plain": [
       "int"
      ]
     },
     "execution_count": 2,
     "metadata": {},
     "output_type": "execute_result"
    }
   ],
   "source": [
    "# Step1. 首先讓我們創建個空箱子，把箱子內的資料印出來，並且用type()將資料型別印出\n",
    "box = 9487\n",
    "print(box)\n",
    "type(box)"
   ]
  },
  {
   "cell_type": "code",
   "execution_count": 4,
   "metadata": {},
   "outputs": [
    {
     "name": "stdout",
     "output_type": "stream",
     "text": [
      "9487 94狂\n"
     ]
    },
    {
     "data": {
      "text/plain": [
       "str"
      ]
     },
     "execution_count": 4,
     "metadata": {},
     "output_type": "execute_result"
    }
   ],
   "source": [
    "# Step2. 首先讓我們創建個空箱子，把箱子內的資料印出來，並且用type()將資料型別印出\n",
    "box1 = \"9487 94狂\"\n",
    "print(box1)\n",
    "type(box1)\n"
   ]
  },
  {
   "cell_type": "code",
   "execution_count": 5,
   "metadata": {},
   "outputs": [
    {
     "name": "stdout",
     "output_type": "stream",
     "text": [
      "19487\n"
     ]
    },
    {
     "data": {
      "text/plain": [
       "int"
      ]
     },
     "execution_count": 5,
     "metadata": {},
     "output_type": "execute_result"
    }
   ],
   "source": [
    "# Step3. 首先讓我們創建兩個空箱子，然後把兩個箱子相加的數值印出來，並且用type()將資料型別印出\n",
    "box1 = 9487\n",
    "box2 = 10000\n",
    "add = box1+box2\n",
    "print(add)\n",
    "type(add)"
   ]
  },
  {
   "cell_type": "code",
   "execution_count": 7,
   "metadata": {},
   "outputs": [
    {
     "name": "stdout",
     "output_type": "stream",
     "text": [
      "Hello, Sean.\n"
     ]
    },
    {
     "data": {
      "text/plain": [
       "str"
      ]
     },
     "execution_count": 7,
     "metadata": {},
     "output_type": "execute_result"
    }
   ],
   "source": [
    "# Step4. 首先讓我們創建兩個空箱子，然後把兩個箱子相加的數值印出來，並且用type()將資料型別印出(此題示範為字串str)\n",
    "box1 = 'Hello, '\n",
    "box2 = 'Sean.'\n",
    "add = box1+box2\n",
    "print(add)\n",
    "type(add)"
   ]
  },
  {
   "cell_type": "code",
   "execution_count": null,
   "metadata": {},
   "outputs": [],
   "source": [
    "# Step5. 假設我們創建兩個空箱子，其一箱子為整數，另一個為字串，若相加會如何呢？\n",
    "box1 = 'Hello, '\n",
    "box2 = 'Sean.'\n",
    "add = box1+box2\n",
    "print(add)\n",
    "type(add)\n"
   ]
  }
 ],
 "metadata": {
  "kernelspec": {
   "display_name": "Python 3",
   "language": "python",
   "name": "python3"
  },
  "language_info": {
   "codemirror_mode": {
    "name": "ipython",
    "version": 3
   },
   "file_extension": ".py",
   "mimetype": "text/x-python",
   "name": "python",
   "nbconvert_exporter": "python",
   "pygments_lexer": "ipython3",
   "version": "3.8.3"
  }
 },
 "nbformat": 4,
 "nbformat_minor": 4
}
